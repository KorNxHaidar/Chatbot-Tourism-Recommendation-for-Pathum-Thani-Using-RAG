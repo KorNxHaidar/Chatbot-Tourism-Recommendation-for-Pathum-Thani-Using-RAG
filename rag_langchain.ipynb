{
 "cells": [
  {
   "cell_type": "code",
   "execution_count": null,
   "metadata": {},
   "outputs": [
    {
     "data": {
      "text/plain": [
       "True"
      ]
     },
     "execution_count": 24,
     "metadata": {},
     "output_type": "execute_result"
    }
   ],
   "source": [
    "import os\n",
    "import dotenv\n",
    "from pathlib import Path\n",
    "\n",
    "import sys\n",
    "import re\n",
    "import os\n",
    "import pandas as pd\n",
    "from langchain_community.document_loaders import PyMuPDFLoader\n",
    "from langchain.chains import ConversationalRetrievalChain\n",
    "from langchain.text_splitter import CharacterTextSplitter\n",
    "from langchain.schema import Document\n",
    "from langchain.prompts import PromptTemplate\n",
    "from langchain.vectorstores import Chroma\n",
    "from langchain_openai import OpenAIEmbeddings\n",
    "from langchain_google_genai import ChatGoogleGenerativeAI\n",
    "from langchain_cohere import CohereEmbeddings\n",
    "from langchain_core.prompts import ChatPromptTemplate\n",
    "from langchain_groq import ChatGroq\n",
    "from sentence_transformers import SentenceTransformer\n",
    "from langchain_huggingface import HuggingFaceEmbeddings\n",
    "from langchain.vectorstores import FAISS\n",
    "from langchain.vectorstores import VectorStore\n",
    "from openai import OpenAI\n",
    "\n",
    "dotenv.load_dotenv()"
   ]
  },
  {
   "cell_type": "code",
   "execution_count": null,
   "metadata": {},
   "outputs": [],
   "source": [
    "# Load docs\n",
    "\n",
    "doc_paths = [\n",
    "    \"/content/darft.pdf\",\n",
    "    \"/content/draft2.pdf\",\n",
    "]\n",
    "\n",
    "docs = [] \n",
    "for doc_file in doc_paths:\n",
    "    file_path = Path(doc_file)\n",
    "\n",
    "    try:\n",
    "        if file_path:\n",
    "            loader = PyMuPDFLoader(file_path=file_path)\n",
    "            data = loader.load_and_split()\n",
    "        else:\n",
    "            print('Upload a PDF file')\n",
    "            sys.exit()\n",
    "\n",
    "        docs.extend(data)\n",
    "\n",
    "    except Exception as e:\n",
    "        print(f\"Error loading document {doc_file.name}: {e}\")\n",
    "    \n",
    "    # finally:\n",
    "    #     os.remove(file_path)"
   ]
  },
  {
   "cell_type": "code",
   "execution_count": null,
   "metadata": {},
   "outputs": [
    {
     "name": "stdout",
     "output_type": "stream",
     "text": [
      "[Document(metadata={'source': 'docs\\\\test_rag.pdf', 'page': 0}, page_content='My favorite food is margarita pizza.  \\nThere are 47588 bottles in the tr uck.'), Document(metadata={'source': 'docs\\\\test_rag.docx'}, page_content='My favorite food is margarita pizza.\\n\\nThere are 47588 bottles in the truck.'), Document(metadata={'source': 'https://docs.streamlit.io/develop/quick-reference/release-notes', 'title': 'Release notes - Streamlit Docs', 'description': 'A changelog of highlights and fixes for each version of Streamlit.', 'language': 'No language found.'}, page_content=\"Release notes - Streamlit DocsDocumentationsearchSearchrocket_launchGet startedInstallationaddFundamentalsaddFirst stepsaddcodeDevelopConceptsaddAPI referenceaddTutorialsaddQuick referenceremoveCheat sheetRelease notesremove202420232022202120202019Pre-release featuresRoadmapopen_in_newweb_assetDeployConceptsaddStreamlit Community CloudaddSnowflakeOther platformsaddschoolKnowledge baseFAQInstalling dependenciesDeployment issuesHome/Develop/Quick reference/Release notesRelease notes\\nThis page lists highlights, bug fixes, and known issues for the latest release of Streamlit. If you're looking for information about nightly releases or experimental features, see Pre-release features.\\nUpgrade Streamlit\\nstarTipTo upgrade to the latest version of Streamlit, run:pip install --upgrade streamlit\\n\\nVersion 1.40.0 (latest)\\nRelease date: November 6, 2024\\nHighlights\\n\\n💊\\xa0Introducing st.pills to create a single- or multi-select group of pill-buttons.\\n🎛️\\xa0Introducing st.segmented_control to create a segmented button or button group.\\n🎤\\xa0Announcing the general availability of st.audio_input, a widget to let users record sound with their microphones.\\n\\nNotable Changes\\n\\n➡️\\xa0Markdown renders a limited set of typographical symbols (arrows and comparators).\\n You can use :streamlit: to render the Streamlit logo in Markdown.\\n🐍\\xa0st.text wraps text and no longer uses monospace font.\\n🪣\\xa0You can set use_container_width for st.image. use_column_width is deprecated.\\n📅 st.date_input infers the first day of the week from the user's locale (#9706, #5215).\\n\\nOther Changes\\n\\n🎶\\xa0Streamlit's CLI tool accepts array values for configuration options (#9577).\\n⛓️\\xa0Static file serving supports symlinks (#9147, #9146). Thanks, link89!\\n🚀\\xa0Streamlit provides helpful links for deployment when an app is running locally (#9681).\\n↕️\\xa0The fullscreen button for charts matches with the dataframe toolbar (#9721).\\n🏃\\xa0The running-man icon has a brief delay before rendering to avoid an unnecessary flicker for fast running apps (#9732).\\n🖇️\\xa0The ComponentRequestHandler allows symlinks (#9588).\\n👆\\xa0Streamlit works with pillow version 11 (#9742). Thanks, hauntsaninja!\\n🗺️\\xa0Deck.gl was upgraded to version 9.0.33 (#9636).\\n🦠\\xa0Bug fix: st.latex stays center-aligned when using the help keyword argument (#9698, #9682). Thanks, emmagarr!\\n🪰\\xa0Bug fix: Apps correctly access local storage on Android (#9744, #9740).\\n🕷️\\xa0Bug fix: Cached class methods can be cleared (#9642, #9633).\\n🐞\\xa0Bug fix: Streamlit clears fragment auto-reruns when a user changes pages. This prevents an invalid index (#9617).\\n🐝\\xa0Bug fix: st.page_link margins are correct (#9625).\\n🐜\\xa0Bug fix: Form widgets show submission instructions when in focus (#9576, #7079).\\n🪲\\xa0Bug fix: st.navigation correctly reconciles client.showSidebarNavigation (#9589, #9581).\\n🐛\\xa0Bug fix: st.text_area requires a minimum height of 68px which fits two lines (#9561, #9217).\\n💅\\xa0Bug fix: Various styling fixes (#9529, #8131, #9555, #9496, #9554, #9349, #7739).\\n\\nOlder versions of Streamlit\\n\\n2024 release notes\\n2023 release notes\\n2022 release notes\\n2021 release notes\\n2020 release notes\\n2019 release notes\\nPrevious: Cheat sheetNext: 2024forumStill have questions?Our forums are full of helpful information and Streamlit experts.HomeContact UsCommunity© 2024 Snowflake Inc.Cookie policyforum Ask AI\")]\n"
     ]
    }
   ],
   "source": [
    "# Split docs\n",
    "text_splitter = CharacterTextSplitter(separator=\"\\n\\n\", chunk_size=1024, chunk_overlap=0)\n",
    "texts = text_splitter.split_documents(docs)"
   ]
  },
  {
   "cell_type": "code",
   "execution_count": null,
   "metadata": {},
   "outputs": [],
   "source": [
    "for i in range(len(texts)):\n",
    "    cleaned_content = re.sub(r'[\\u202a-\\u202e]', '', texts[i].page_content)\n",
    "    texts[i] = Document(metadata=texts[i].metadata, page_content=cleaned_content)\n",
    "\n",
    "print(texts[140])"
   ]
  },
  {
   "cell_type": "code",
   "execution_count": null,
   "metadata": {},
   "outputs": [],
   "source": [
    "#HuggingFaceEmbeddings\n",
    "model_name = \"BAAI/bge-m3\"\n",
    "model_kwargs = {'device': 'cpu'}\n",
    "encode_kwargs = {'normalize_embeddings': True}\n",
    "embeddings = HuggingFaceEmbeddings(\n",
    "    model_name=model_name,\n",
    "    model_kwargs=model_kwargs,\n",
    "    encode_kwargs=encode_kwargs\n",
    ")\n",
    "\n",
    "# storing embeddings in the vector store\n",
    "vectorstore = FAISS.from_documents(texts, embeddings)\n",
    "\n",
    "# Retrieve and generate using the relevant snippets of the blog.\n",
    "retriever = vectorstore.as_retriever()"
   ]
  },
  {
   "cell_type": "code",
   "execution_count": null,
   "metadata": {},
   "outputs": [],
   "source": [
    "typhoon_prompt = PromptTemplate(\n",
    "    input_variables=[\"context\",\"question\"],\n",
    "    template=\"\"\"\n",
    "    You are an assistant for question-answering tasks. Use the following pieces of retrieved context to answer the question.\n",
    "    You should answer the question in Thai language only.\n",
    "    Context: {context}\n",
    "\n",
    "    You are an expert travel guide specializing in tourist attractions in Pathum Thani, Thailand.\n",
    "    The user has the following question:\n",
    "    Question: {question}\n",
    "\n",
    "    Please provide a helpful response with the following details:\n",
    "    1. Name of the attraction\n",
    "    2. Description of the place (e.g., unique features, activities available)\n",
    "    3. Opening and closing hours\n",
    "    4. Additional information (e.g., transportation tips, entrance fees, or special advice)\n",
    "\n",
    "    If you don't know the answer, simply say, \"I don't know.\"\n",
    "    \"\"\",\n",
    ")"
   ]
  },
  {
   "cell_type": "code",
   "execution_count": null,
   "metadata": {},
   "outputs": [],
   "source": [
    "typhoon_token = os.getenv(\"TYPHOON_API_KEY\")\n",
    "\n",
    "# Initialize the Typhoon client\n",
    "client = OpenAI(\n",
    "    api_key= typhoon_token,\n",
    "    base_url='https://api.opentyphoon.ai/v1'\n",
    ")\n",
    "\n",
    "# Define a function to generate a response using the LLM\n",
    "def generate_response(context, question):\n",
    "    prompt = typhoon_prompt.format(context=context, question=question)\n",
    "    chat_completion = client.chat.completions.create(\n",
    "        model=\"typhoon-v1.5x-70b-instruct\",\n",
    "        messages=[{\"role\": \"user\", \"content\": prompt}]\n",
    "    )\n",
    "    return chat_completion.choices[0].message.content\n",
    "\n",
    "# Main function to handle user query\n",
    "def answer_question(user_question):\n",
    "    # Retrieve relevant context from the vectorstore\n",
    "    retrieved_contexts = retriever.get_relevant_documents(user_question)\n",
    "    context = \"\\n\".join([doc.page_content for doc in retrieved_contexts])\n",
    "\n",
    "    # Generate response using the context and question\n",
    "    response = generate_response(context=context, question=user_question)\n",
    "    return response"
   ]
  },
  {
   "cell_type": "code",
   "execution_count": null,
   "metadata": {},
   "outputs": [],
   "source": [
    "print(\"Welcome to the Pathum Thani Travel Guide!\")\n",
    "user_question = input(\"Please ask your question: \")\n",
    "answer = answer_question(user_question)\n",
    "print(\"\\nResponse:\")\n",
    "print(answer)"
   ]
  }
 ],
 "metadata": {
  "kernelspec": {
   "display_name": "venv",
   "language": "python",
   "name": "python3"
  },
  "language_info": {
   "codemirror_mode": {
    "name": "ipython",
    "version": 3
   },
   "file_extension": ".py",
   "mimetype": "text/x-python",
   "name": "python",
   "nbconvert_exporter": "python",
   "pygments_lexer": "ipython3",
   "version": "3.11.9"
  }
 },
 "nbformat": 4,
 "nbformat_minor": 2
}
