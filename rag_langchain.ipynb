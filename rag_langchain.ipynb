{
 "cells": [
  {
   "cell_type": "code",
   "execution_count": 3,
   "metadata": {},
   "outputs": [
    {
     "name": "stderr",
     "output_type": "stream",
     "text": [
      "c:\\Users\\Korn\\Desktop\\dsi314\\Chatbot-Tourism-Recommendation-for-Pathum-Thani-Using-RAG\\venv\\Lib\\site-packages\\tqdm\\auto.py:21: TqdmWarning: IProgress not found. Please update jupyter and ipywidgets. See https://ipywidgets.readthedocs.io/en/stable/user_install.html\n",
      "  from .autonotebook import tqdm as notebook_tqdm\n"
     ]
    },
    {
     "data": {
      "text/plain": [
       "True"
      ]
     },
     "execution_count": 3,
     "metadata": {},
     "output_type": "execute_result"
    }
   ],
   "source": [
    "import sys\n",
    "import re\n",
    "import pandas as pd\n",
    "import json\n",
    "import os\n",
    "import dotenv\n",
    "\n",
    "from pathlib import Path\n",
    "from typing import overload\n",
    "from langchain_core.documents import Document\n",
    "from langchain_community.document_loaders import PyMuPDFLoader\n",
    "from langchain.chains import ConversationalRetrievalChain\n",
    "from langchain.text_splitter import CharacterTextSplitter\n",
    "from langchain.schema import Document\n",
    "from langchain.prompts import PromptTemplate\n",
    "from langchain_cohere import CohereEmbeddings\n",
    "from langchain_core.prompts import ChatPromptTemplate\n",
    "from sentence_transformers import SentenceTransformer\n",
    "from langchain_huggingface import HuggingFaceEmbeddings\n",
    "from langchain.vectorstores import FAISS\n",
    "from langchain.vectorstores import VectorStore\n",
    "from openai import OpenAI\n",
    "\n",
    "dotenv.load_dotenv()"
   ]
  },
  {
   "cell_type": "code",
   "execution_count": 4,
   "metadata": {},
   "outputs": [
    {
     "name": "stdout",
     "output_type": "stream",
     "text": [
      "C:\\Users\\Korn\\Desktop\\dsi314\\Chatbot-Tourism-Recommendation-for-Pathum-Thani-Using-RAG\n"
     ]
    }
   ],
   "source": [
    "os.chdir(\"C:\\\\Users\\\\Korn\\\\Desktop\\\\dsi314\\\\Chatbot-Tourism-Recommendation-for-Pathum-Thani-Using-RAG\")\n",
    "print(os.getcwd())"
   ]
  },
  {
   "cell_type": "code",
   "execution_count": 5,
   "metadata": {},
   "outputs": [],
   "source": [
    "def restructure_json(input_path: str, main_key: str = \"name\"):\n",
    "    with open(input_path, \"r\", encoding=\"utf-8\") as file:\n",
    "        data = json.load(file)\n",
    "    \n",
    "    updated_data = {main_key: data}\n",
    "    \n",
    "    with open(input_path, \"w\", encoding=\"utf-8\") as file:\n",
    "        json.dump(updated_data, file, ensure_ascii=False, indent=4)\n",
    "\n",
    "@overload\n",
    "def extract_data(path: str, main_key: str)->list[Document]:...\n",
    "\n",
    "@overload\n",
    "def extract_data(path: str)->list[Document]:...\n",
    "\n",
    "def extract_data(path: str, main_key:str=\"name\")->list[Document]:\n",
    "    documents: list[Document] = []\n",
    "    with open(path, \"r\", encoding='utf8') as json_file:\n",
    "        data:list[dict[str, str]] = json.load(json_file)[main_key]\n",
    "\n",
    "        for each_data in data:\n",
    "          page_content: str = \"\"\n",
    "          for k in each_data:\n",
    "              page_content = page_content + f\"{k} {each_data[k]}\"\n",
    "          current_document = Document(\n",
    "              page_content=page_content,\n",
    "          )\n",
    "          documents.append(current_document)\n",
    "    return documents"
   ]
  },
  {
   "cell_type": "code",
   "execution_count": 6,
   "metadata": {},
   "outputs": [],
   "source": [
    "# Load docs\n",
    "doc_paths = [\n",
    "    \"./data\\darft.pdf\",\n",
    "    \"./data\\draft2.pdf\",\n",
    "    \"./data\\สามโคก ร้านอาหาร คาเฟ่ เมือง คา.csv\",\n",
    "]\n",
    "\n",
    "docs = []\n",
    "for doc_file in doc_paths:\n",
    "    file_path = Path(doc_file)\n",
    "    file_name = os.path.splitext(os.path.basename(file_path))[0]\n",
    "\n",
    "    try:\n",
    "        if str(file_path).endswith(\".pdf\"):\n",
    "            loader = PyMuPDFLoader(file_path=file_path)\n",
    "            data = loader.load_and_split()\n",
    "        elif str(file_path).endswith(\".csv\"):\n",
    "            df = pd.read_csv(file_path)\n",
    "            df = df[['name','description','reviews','website','phone','main_category','rating','workday_timing','closed_on','address','link']]\n",
    "            df.to_json(f'./data\\cleaned_{file_name}.json', force_ascii=False, orient='records')            \n",
    "            restructure_json(f'./data\\cleaned_{file_name}.json')\n",
    "            data = extract_data(f'./data\\cleaned_{file_name}.json')\n",
    "        else:\n",
    "            print('Upload a file successful')\n",
    "            sys.exit()\n",
    "\n",
    "        docs.extend(data)\n",
    "\n",
    "    except Exception as e:\n",
    "        print(f\"Error loading document {file_name}: {e}\")\n"
   ]
  },
  {
   "cell_type": "code",
   "execution_count": 7,
   "metadata": {},
   "outputs": [],
   "source": [
    "# Split docs\n",
    "text_splitter = CharacterTextSplitter(separator=\"\\n\\n\", chunk_size=512, chunk_overlap=0)\n",
    "texts = text_splitter.split_documents(docs)"
   ]
  },
  {
   "cell_type": "code",
   "execution_count": 8,
   "metadata": {},
   "outputs": [
    {
     "name": "stdout",
     "output_type": "stream",
     "text": [
      "page_content='○ วัดบางหลวงสร้างในสมัยกรุงศรีอยุธยา อุโบสถหลังเก่าเป็นที่ประดิษฐาน หลวงพ่อใหญ่ ซึ่งเป็น\n",
      "พระประธานที่มีขนาดใหญ่ที่สุดของเมืองปทุมธานี ส่วนหลวงพ่อเพชร เป็นพระพุทธรูปสมัย\n",
      "เชียงแสน มีพุทธลักษณะพิเศษ คือ พระหัตถ์ซ้ายบิดไปมาได้ ทางวัดจะอัญเชิญหลวงพ่อเพชรออก\n",
      "มาให้ประชาชนได้สักการะในช่วงเทศกาลออกพรรษา นอกจากนี้ วัดบางหลวงมีการกวนข้าวทิพย์\n",
      "ในวันที่ 10-11 เมษายนของทุกปี\n",
      "○ วัดหงส์ปทุมาวาสหรือ วัดมอญ เป็นวัดราษฎร์สังกัดคณะสงฆ์ฝ่ายมหานิกาย ตั้งอยู่ริมแม่น้ำ\n",
      "เจ้าพระยา ในตำบลบางปรอก อำเภอเมืองปทุมธานี จังหวัดปทุมธานี เป็นวัดได้รับรางวัลชนะเลิศ\n",
      "โครงการอนุรักษ์พันธุ์ปลาหน้าวัดด้วยความที่มีพันธุ์ปลาต่าง ๆ มากมาย ไม่ว่าจะเป็นปลาสวาย\n",
      "ปลาเทโพ ปลาแรด ปลาตะเพียน และปลาอื่นอีกหลายชนิด มีที่ดินที่ตั้งวัดเนื้อที่ 12 ไร่ 1 งาน 52\n",
      "ตารางวา โดยวัดหงส์ปทุมาวาสสร้างขึ้นเมื่อ พ.ศ. 2317 โดยชาวมอญที่อพยพหนีพม่ามาไทยใน\n",
      "สมัยพระเจ้ากรุงธนบุรี เดิมมีชื่อว่า วัดหงษา จนกระทั่งใน พ.ศ. 2485 จึงเปลี่ยนชื่อมาเป็น \"วัด\n",
      "หงษ์ปทุมาวาส\" ได้รับพระราชทานวิสุงคามสีมาเมื่อวันที่ 30 ธันวาคม พ.ศ. 2524 เขต\n",
      "วิสุงคามสีมากว้าง 40 เมตร ยาว 60 เมตร และได้ดำเนินการผูกพัทธสีมาเมื่อวันที่ 10 เมษายน\n",
      "พ.ศ. 2525 ภายในบริเวณวัดปรากฏสัญลักษณ์ของชนชาวมอญ คือ เสาหงส์และตัวหงส์บนยอด\n",
      "เสา มีเจดีย์ทรงมอญซึ่งเป็นเจดีย์ที่จำลองแบบมาจากเจดีย์จิตตะกอง ในอุโบสถมีพระพุทธชินราช\n",
      "จำลองและพระประธานจากอุโบสถหลังเก่าเป็นพระประธาน ในวิหารมีรูปหล่อพระพุทธชินราช\n",
      "หลวงพ่อโสธร หลวงพ่อวัดเขาตะเครา สมเด็จพระพุฒาจารย์ (โต พฺรหฺมรํสี) หลวงปู่เฒ่า และมี\n",
      "ศาลาการเปรียญประดับด้วยไม้แกะสลักสวยงาม\n",
      "○ วัดเสด็จ เดิมชื่อ วัดสร้อยทอง ตั้งอยู่ที่ หมู่ 5 บ้านคลองกระแชง ตำบลสวนพริกไทย อำเภอเมือง\n",
      "ปทุมธานี จังหวัดปทุมธานี เป็นวัดราษฎร์และโบราณสถานในจังหวัดปทุมธานี ส่วนใหญ่เป็นวัดใน\n",
      "พระพุทธศาสนา ซึ่งตั้งกระจัดกระจายอยู่ตลอดพื้นที่สองฝั่งแม่น้ำเจ้าพระยา ในรัชสมัยของ\n",
      "พระบาทสมเด็จพระพุทธยอดฟ้าจุฬาโลกมหาราช พระองค์โปรดเกล้าฯ ให้อพยพผู้คนที่นำมา\n",
      "จากเมืองปัตตานี มาตั้งบ้านเรือนอยู่ใต้วัดสร้อยทองบริเวณแม่น้ำอ้อม (ปัจจุบันเรียกว่า คลองน้ำ\n",
      "อ้อม) เรียกกันว่า บ้านแขก มีอาชีพทำสวนพริกไทย ต่อมาในรัชสมัยของพระบาทสมเด็จพระนั่ง\n",
      "เกล้าเจ้าอยู่หัว ในปี พ.ศ. 2369 เจ้าอนุวงศ์เวียงจันทน์แห่งประเทศลาวเป็นกบฏ พระองค์โปรด\n",
      "เกล้าฯ ให้เจ้าพระยามหาโยธา (ทอเรียะ คชเสนี) ยกทัพไปปราบจนสงบราบคาบแล้ว จึงได้นำ' metadata={'source': 'data\\\\draft2.pdf', 'file_path': 'data\\\\draft2.pdf', 'page': 9, 'total_pages': 44, 'format': 'PDF 1.4', 'title': 'Fact Sheet จังหวัดปทุมธานี - Google Docs', 'author': '', 'subject': '', 'keywords': '', 'creator': 'Mozilla/5.0 (Windows NT 10.0; Win64; x64) AppleWebKit/537.36 (KHTML, like Gecko) Chrome/128.0.0.0 Safari/537.36', 'producer': 'Skia/PDF m128', 'creationDate': \"D:20240920045425+00'00'\", 'modDate': \"D:20240920045425+00'00'\", 'trapped': ''}\n"
     ]
    }
   ],
   "source": [
    "for i in range(len(texts)):\n",
    "    cleaned_content = re.sub(r'[\\u202a-\\u202e]', '', texts[i].page_content)\n",
    "    texts[i] = Document(metadata=texts[i].metadata, page_content=cleaned_content)\n",
    "\n",
    "print(texts[140])"
   ]
  },
  {
   "cell_type": "code",
   "execution_count": 9,
   "metadata": {},
   "outputs": [
    {
     "name": "stderr",
     "output_type": "stream",
     "text": [
      "c:\\Users\\Korn\\Desktop\\dsi314\\Chatbot-Tourism-Recommendation-for-Pathum-Thani-Using-RAG\\venv\\Lib\\site-packages\\huggingface_hub\\file_download.py:147: UserWarning: `huggingface_hub` cache-system uses symlinks by default to efficiently store duplicated files but your machine does not support them in C:\\Users\\Korn\\.cache\\huggingface\\hub\\models--BAAI--bge-m3. Caching files will still work but in a degraded version that might require more space on your disk. This warning can be disabled by setting the `HF_HUB_DISABLE_SYMLINKS_WARNING` environment variable. For more details, see https://huggingface.co/docs/huggingface_hub/how-to-cache#limitations.\n",
      "To support symlinks on Windows, you either need to activate Developer Mode or to run Python as an administrator. In order to activate developer mode, see this article: https://docs.microsoft.com/en-us/windows/apps/get-started/enable-your-device-for-development\n",
      "  warnings.warn(message)\n"
     ]
    }
   ],
   "source": [
    "#HuggingFaceEmbeddings\n",
    "model_name = \"BAAI/bge-m3\"\n",
    "model_kwargs = {'device': 'cpu'}\n",
    "encode_kwargs = {'normalize_embeddings': True}\n",
    "embeddings = HuggingFaceEmbeddings(\n",
    "    model_name=model_name,\n",
    "    model_kwargs=model_kwargs,\n",
    "    encode_kwargs=encode_kwargs\n",
    ")"
   ]
  },
  {
   "cell_type": "code",
   "execution_count": 10,
   "metadata": {},
   "outputs": [],
   "source": [
    "# storing embeddings in the vector store\n",
    "vectorstore = FAISS.from_documents(texts, embeddings)"
   ]
  },
  {
   "cell_type": "code",
   "execution_count": 13,
   "metadata": {},
   "outputs": [
    {
     "name": "stdout",
     "output_type": "stream",
     "text": [
      "Vector Store saved to ./vectorstore_directory\n"
     ]
    }
   ],
   "source": [
    "save_path = \"./vectorstore_directory\"\n",
    "vectorstore.save_local(save_path)\n",
    "print(f\"Vector Store saved to {save_path}\")"
   ]
  },
  {
   "cell_type": "code",
   "execution_count": 14,
   "metadata": {},
   "outputs": [
    {
     "name": "stdout",
     "output_type": "stream",
     "text": [
      "Vector Store loaded successfully!\n"
     ]
    }
   ],
   "source": [
    "load_path = \"./vectorstore_directory\"\n",
    "vectorstore = FAISS.load_local(load_path, embeddings, allow_dangerous_deserialization=True)\n",
    "print(\"Vector Store loaded successfully!\")\n",
    "\n",
    "# Retrieve and generate using the relevant snippets of the blog.\n",
    "retriever = vectorstore.as_retriever()"
   ]
  },
  {
   "cell_type": "code",
   "execution_count": 15,
   "metadata": {},
   "outputs": [],
   "source": [
    "typhoon_prompt = PromptTemplate(\n",
    "    input_variables=[\"context\",\"question\"],\n",
    "    template=\"\"\"\n",
    "    You are an assistant for question-answering tasks. Use the following pieces of retrieved context to answer the question.\n",
    "    You should answer the question in Thai language only.\n",
    "    Context: {context}\n",
    "\n",
    "    You are an expert travel guide specializing in tourist attractions in Pathum Thani, Thailand.\n",
    "    The user has the following question:\n",
    "    Question: {question}\n",
    "\n",
    "    Please provide a helpful response with the following details:\n",
    "    1. Name of the attraction\n",
    "    2. Description of the place (e.g., unique features, activities available)\n",
    "    3. Opening and closing hours\n",
    "    4. Additional information (e.g., transportation tips, entrance fees, or special advice)\n",
    "    \n",
    "    If you don't know the answer, simply say, \"I don't know.\"\n",
    "    \"\"\",\n",
    ")"
   ]
  },
  {
   "cell_type": "code",
   "execution_count": 20,
   "metadata": {},
   "outputs": [],
   "source": [
    "#typhoon_token = os.getenv(\"TYPHOON_API_KEY\")\n",
    "\n",
    "# Initialize the Typhoon client\n",
    "client = OpenAI(\n",
    "    api_key=os.getenv(\"TYPHOON_API_KEY\"),\n",
    "    base_url='https://api.opentyphoon.ai/v1'\n",
    ")\n",
    "\n",
    "# Define a function to generate a response using the LLM\n",
    "def generate_response(context, chat_history, question):\n",
    "    history = \"\\n\".join([f\"User: {entry['user']}\\nAssistant: {entry['assistant']}\" for entry in chat_history])\n",
    "    prompt = f\"{typhoon_prompt}\\n\\n{history}\\n\\nContext: {context}\\n\\nUser: {question}\\nAssistant:\"\n",
    "    chat_completion = client.chat.completions.create(\n",
    "        model=\"typhoon-v1.5x-70b-instruct\",\n",
    "        messages=[{\"role\": \"user\", \"content\": prompt}],\n",
    "    )\n",
    "    return chat_completion.choices[0].message.content\n",
    "\n",
    "# Main function to handle user query\n",
    "def answer_question(user_question, chat_history):\n",
    "    retrieved_contexts = retriever.get_relevant_documents(user_question)\n",
    "    context = \"\\n\".join([doc.page_content for doc in retrieved_contexts])\n",
    "    response = generate_response(context=context, chat_history=chat_history, question=user_question)\n",
    "    return response"
   ]
  },
  {
   "cell_type": "code",
   "execution_count": 21,
   "metadata": {},
   "outputs": [
    {
     "name": "stdout",
     "output_type": "stream",
     "text": [
      "\n",
      "Assistant: สวัสดีค่ะ! ฉันเป็นผู้ช่วยในการตอบคำถามเกี่ยวกับการท่องเที่ยวในจังหวัดปทุมธานี, ประเทศไทย. คุณมีคำถามอะไรเกี่ยวกับสถานที่ท่องเที่ยวหรือไม่?\n",
      "\n",
      "Assistant: สวัสดีค่ะ! ฉันเป็นผู้ช่วยในการตอบคำถามเกี่ยวกับการท่องเที่ยวในจังหวัดปทุมธานี, ประเทศไทย. คุณมีคำถามอะไรเกี่ยวกับสถานที่ท่องเที่ยวหรือไม่?\n",
      "\n",
      "Assistant: Hello! I am an assistant for question-answering tasks specializing in tourist attractions in Pathum Thani, Thailand. Do you have any questions about tourist attractions?\n",
      "\n",
      "Context:\n",
      "1. ร้านอาหารริมน้ำผู้ใหญ่สุวิทย์\n",
      "Description: None\n",
      "Reviews: 299\n",
      "Website: https://www.wongnai.com/restaurants/80037cs-%E0%B8%A3%E0%B9%89%E0%B8%B2%E0%B8%99%E0%B8%AD%E0%B8%B2%E0%B8%AB%E0%B8%B2%E0%B8%A3%E0%B8%9C%E0%B8%B9%E0%B9%89%E0%B9%83%E0%B8%AB%E0%B8%8D%E0%B9%88%E0%B8%AA%E0%B8%B8%E0%B8%A7%E0%B8%B4%E0%B8%97%E0%B8%A2%E0%B9%8C\n",
      "Phone: 088 332 9559\n",
      "Main Category: Restaurant\n",
      "Rating: 3.9\n",
      "Workday Timing: 10:00–20:00\n",
      "Closed On: Open All Days\n",
      "Address: 55 1 ตำบลบ้านปทุม อำเภอสามโคก ปทุมธานี 12160\n",
      "Link: https://maps.app.goo.gl/9gA22FMFPpBFBQqG7\n",
      "2. นายป้อม ซุปเปอร์เล้ง\n",
      "Description: None\n",
      "Reviews: 65\n",
      "Website: None\n",
      "Phone: 081 195 6915\n",
      "Main Category: Restaurant\n",
      "Rating: 4.0\n",
      "Workday Timing: 10:00–20:00\n",
      "Closed On: Open All Days\n",
      "Address: 4G5M+VG8 ตำบล บางกระบือ อำเภอสามโคก ปทุมธานี 12160\n",
      "Link: https://maps.app.goo.gl/nWUr5At4bFygCcSHA\n",
      "3. ร้านหนูปลื้ม\n",
      "Description: None\n",
      "Reviews: 11\n",
      "Website: https://www.facebook.com/%E0%B8%AB%E0%B8%99%E0%B8%B9%E0%B8%9B%E0%B8%A5%E0%B8%B7%E0%B9%89%E0%B8%A1-112347470119\n",
      "Exiting chat. Goodbye!\n"
     ]
    }
   ],
   "source": [
    "# Main loop with chat history\n",
    "chat_history = []\n",
    "query = None\n",
    "\n",
    "while True:\n",
    "    if not query:\n",
    "        query = input(\"Please ask your question (or type 'quit' to exit): \")\n",
    "    if query.lower() in ['quit', 'exit', 'q']:\n",
    "        print(\"Exiting chat. Goodbye!\")\n",
    "        break\n",
    "    answer = answer_question(query, chat_history)\n",
    "    chat_history.append({\"user\": query, \"assistant\": answer})\n",
    "    print(\"\\nAssistant:\", answer)\n",
    "    query = None"
   ]
  }
 ],
 "metadata": {
  "kernelspec": {
   "display_name": "venv",
   "language": "python",
   "name": "python3"
  },
  "language_info": {
   "codemirror_mode": {
    "name": "ipython",
    "version": 3
   },
   "file_extension": ".py",
   "mimetype": "text/x-python",
   "name": "python",
   "nbconvert_exporter": "python",
   "pygments_lexer": "ipython3",
   "version": "3.11.9"
  }
 },
 "nbformat": 4,
 "nbformat_minor": 2
}
